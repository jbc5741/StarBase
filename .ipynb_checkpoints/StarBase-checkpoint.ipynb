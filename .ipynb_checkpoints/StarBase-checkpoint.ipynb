{
 "cells": [
  {
   "cell_type": "markdown",
   "metadata": {},
   "source": [
    "# StarBase"
   ]
  },
  {
   "cell_type": "markdown",
   "metadata": {},
   "source": [
    "## Imports"
   ]
  },
  {
   "cell_type": "code",
   "execution_count": 1,
   "metadata": {},
   "outputs": [],
   "source": [
    "import numpy as np\n",
    "import pandas as pd\n",
    "\n",
    "from datetime import date, timedelta"
   ]
  },
  {
   "cell_type": "markdown",
   "metadata": {},
   "source": [
    "## 31 July 2021"
   ]
  },
  {
   "cell_type": "markdown",
   "metadata": {},
   "source": [
    "### Make a DataFrame for Raw Mats."
   ]
  },
  {
   "cell_type": "code",
   "execution_count": 2,
   "metadata": {},
   "outputs": [],
   "source": [
    "Auction_Transactions = pd.DataFrame(data = {'Date'             : ([date(2021, 7, 31)] * 8),\n",
    "                                            'Item'             : ['Charodium Ore', 'Vokarium Ore', 'Vokarium Ore', 'Vokarium Ore', 'Vokarium Ore', 'Ice', 'Ice', 'Ajatite Ore'], \n",
    "                                            'Transaction_Type' : ['Sale', 'Sale', 'Sale', 'Sale', 'Sale', 'Sale', 'Sale', 'Sale'], \n",
    "                                            'Price'          : [5085, 2520, 2520, 2696.4, 2696.4, 1573.2, 1573.2, 4000.5]})"
   ]
  },
  {
   "cell_type": "markdown",
   "metadata": {},
   "source": [
    "### First DataFrame Print."
   ]
  },
  {
   "cell_type": "code",
   "execution_count": 3,
   "metadata": {},
   "outputs": [
    {
     "data": {
      "text/html": [
       "<div>\n",
       "<style scoped>\n",
       "    .dataframe tbody tr th:only-of-type {\n",
       "        vertical-align: middle;\n",
       "    }\n",
       "\n",
       "    .dataframe tbody tr th {\n",
       "        vertical-align: top;\n",
       "    }\n",
       "\n",
       "    .dataframe thead th {\n",
       "        text-align: right;\n",
       "    }\n",
       "</style>\n",
       "<table border=\"1\" class=\"dataframe\">\n",
       "  <thead>\n",
       "    <tr style=\"text-align: right;\">\n",
       "      <th></th>\n",
       "      <th>Date</th>\n",
       "      <th>Item</th>\n",
       "      <th>Transaction_Type</th>\n",
       "      <th>Price</th>\n",
       "    </tr>\n",
       "  </thead>\n",
       "  <tbody>\n",
       "    <tr>\n",
       "      <th>0</th>\n",
       "      <td>2021-07-31</td>\n",
       "      <td>Charodium Ore</td>\n",
       "      <td>Sale</td>\n",
       "      <td>5085.0</td>\n",
       "    </tr>\n",
       "    <tr>\n",
       "      <th>1</th>\n",
       "      <td>2021-07-31</td>\n",
       "      <td>Vokarium Ore</td>\n",
       "      <td>Sale</td>\n",
       "      <td>2520.0</td>\n",
       "    </tr>\n",
       "    <tr>\n",
       "      <th>2</th>\n",
       "      <td>2021-07-31</td>\n",
       "      <td>Vokarium Ore</td>\n",
       "      <td>Sale</td>\n",
       "      <td>2520.0</td>\n",
       "    </tr>\n",
       "    <tr>\n",
       "      <th>3</th>\n",
       "      <td>2021-07-31</td>\n",
       "      <td>Vokarium Ore</td>\n",
       "      <td>Sale</td>\n",
       "      <td>2696.4</td>\n",
       "    </tr>\n",
       "    <tr>\n",
       "      <th>4</th>\n",
       "      <td>2021-07-31</td>\n",
       "      <td>Vokarium Ore</td>\n",
       "      <td>Sale</td>\n",
       "      <td>2696.4</td>\n",
       "    </tr>\n",
       "    <tr>\n",
       "      <th>5</th>\n",
       "      <td>2021-07-31</td>\n",
       "      <td>Ice</td>\n",
       "      <td>Sale</td>\n",
       "      <td>1573.2</td>\n",
       "    </tr>\n",
       "    <tr>\n",
       "      <th>6</th>\n",
       "      <td>2021-07-31</td>\n",
       "      <td>Ice</td>\n",
       "      <td>Sale</td>\n",
       "      <td>1573.2</td>\n",
       "    </tr>\n",
       "    <tr>\n",
       "      <th>7</th>\n",
       "      <td>2021-07-31</td>\n",
       "      <td>Ajatite Ore</td>\n",
       "      <td>Sale</td>\n",
       "      <td>4000.5</td>\n",
       "    </tr>\n",
       "  </tbody>\n",
       "</table>\n",
       "</div>"
      ],
      "text/plain": [
       "         Date           Item Transaction_Type   Price\n",
       "0  2021-07-31  Charodium Ore             Sale  5085.0\n",
       "1  2021-07-31   Vokarium Ore             Sale  2520.0\n",
       "2  2021-07-31   Vokarium Ore             Sale  2520.0\n",
       "3  2021-07-31   Vokarium Ore             Sale  2696.4\n",
       "4  2021-07-31   Vokarium Ore             Sale  2696.4\n",
       "5  2021-07-31            Ice             Sale  1573.2\n",
       "6  2021-07-31            Ice             Sale  1573.2\n",
       "7  2021-07-31    Ajatite Ore             Sale  4000.5"
      ]
     },
     "execution_count": 3,
     "metadata": {},
     "output_type": "execute_result"
    }
   ],
   "source": [
    "Auction_Transactions"
   ]
  },
  {
   "cell_type": "markdown",
   "metadata": {},
   "source": [
    "### Define a function to add a record to the DataFrame."
   ]
  },
  {
   "cell_type": "code",
   "execution_count": 4,
   "metadata": {},
   "outputs": [],
   "source": [
    "def add_record(date, item, transaction_type, price):\n",
    "    return Auction_Transactions.append(pd.DataFrame([[date, item, transaction_type, price]], columns = ['Date', 'Item', 'Transaction_Type', 'Price']))"
   ]
  },
  {
   "cell_type": "markdown",
   "metadata": {},
   "source": [
    "### Define a function to update daily averages."
   ]
  },
  {
   "cell_type": "code",
   "execution_count": 20,
   "metadata": {},
   "outputs": [],
   "source": [
    "def get_daily_averages():\n",
    "    daily_averages = pd.DataFrame()\n",
    "    for day in Auction_Transactions['Date'].unique():\n",
    "        \n",
    "        print(day)\n",
    "        \n",
    "        temp_averages  = [day]\n",
    "        cols           = ['Date']\n",
    "        for item in Auction_Transactions[Auction_Transactions['Date'] == day]['Item'].unique():\n",
    "            \n",
    "            print(item)\n",
    "            item_average = Auction_Transactions[Auction_Transactions['Date'] == day][Auction_Transactions['Item'] == item]['Price'].mean()\n",
    "            print(item_average)\n",
    "            temp_averages.append(item_average)\n",
    "            cols.append(item)\n",
    "            \n",
    "        print('\\n', temp_averages, '\\n', cols)\n",
    "\n",
    "        daily_averages.append(pd.DataFrame([temp_averages], columns = cols))\n",
    "        \n",
    "        print(daily_averages)\n",
    "        \n",
    "    return daily_averages\n",
    "        "
   ]
  },
  {
   "cell_type": "markdown",
   "metadata": {},
   "source": [
    "---"
   ]
  },
  {
   "cell_type": "markdown",
   "metadata": {},
   "source": [
    "## 1 August 2021"
   ]
  },
  {
   "cell_type": "code",
   "execution_count": 21,
   "metadata": {},
   "outputs": [
    {
     "name": "stdout",
     "output_type": "stream",
     "text": [
      "2021-07-31\n",
      "Charodium Ore\n",
      "5085.0\n",
      "Vokarium Ore\n",
      "2608.2\n",
      "Ice\n",
      "1573.2\n",
      "Ajatite Ore\n",
      "4000.5\n",
      "\n",
      " [datetime.date(2021, 7, 31), 5085.0, 2608.2, 1573.2, 4000.5] \n",
      " ['Date', 'Charodium Ore', 'Vokarium Ore', 'Ice', 'Ajatite Ore']\n",
      "Empty DataFrame\n",
      "Columns: []\n",
      "Index: []\n"
     ]
    }
   ],
   "source": [
    "daily_averages = get_daily_averages()"
   ]
  },
  {
   "cell_type": "code",
   "execution_count": 9,
   "metadata": {},
   "outputs": [
    {
     "data": {
      "text/html": [
       "<div>\n",
       "<style scoped>\n",
       "    .dataframe tbody tr th:only-of-type {\n",
       "        vertical-align: middle;\n",
       "    }\n",
       "\n",
       "    .dataframe tbody tr th {\n",
       "        vertical-align: top;\n",
       "    }\n",
       "\n",
       "    .dataframe thead th {\n",
       "        text-align: right;\n",
       "    }\n",
       "</style>\n",
       "<table border=\"1\" class=\"dataframe\">\n",
       "  <thead>\n",
       "    <tr style=\"text-align: right;\">\n",
       "      <th></th>\n",
       "    </tr>\n",
       "  </thead>\n",
       "  <tbody>\n",
       "  </tbody>\n",
       "</table>\n",
       "</div>"
      ],
      "text/plain": [
       "Empty DataFrame\n",
       "Columns: []\n",
       "Index: []"
      ]
     },
     "execution_count": 9,
     "metadata": {},
     "output_type": "execute_result"
    }
   ],
   "source": [
    "daily_averages"
   ]
  },
  {
   "cell_type": "code",
   "execution_count": null,
   "metadata": {},
   "outputs": [],
   "source": []
  }
 ],
 "metadata": {
  "kernelspec": {
   "display_name": "Python 3",
   "language": "python",
   "name": "python3"
  },
  "language_info": {
   "codemirror_mode": {
    "name": "ipython",
    "version": 3
   },
   "file_extension": ".py",
   "mimetype": "text/x-python",
   "name": "python",
   "nbconvert_exporter": "python",
   "pygments_lexer": "ipython3",
   "version": "3.8.5"
  },
  "metadata": {
   "interpreter": {
    "hash": "767d51c1340bd893661ea55ea3124f6de3c7a262a8b4abca0554b478b1e2ff90"
   }
  }
 },
 "nbformat": 4,
 "nbformat_minor": 4
}
